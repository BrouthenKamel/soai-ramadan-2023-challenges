{
 "cells": [
  {
   "attachments": {},
   "cell_type": "markdown",
   "metadata": {},
   "source": [
    "# Import"
   ]
  },
  {
   "cell_type": "code",
   "execution_count": 63,
   "metadata": {},
   "outputs": [],
   "source": [
    "import pandas as pd\n",
    "import numpy as np\n",
    "import sklearn\n",
    "import matplotlib.pyplot as plt\n",
    "import tensorflow as tf\n",
    "import xgboost as xgb\n",
    "\n",
    "# sklearn utilities\n",
    "from sklearn.preprocessing import StandardScaler\n",
    "from sklearn.feature_selection import mutual_info_regression\n",
    "from sklearn.tree import DecisionTreeRegressor\n",
    "from sklearn.model_selection import GridSearchCV\n",
    "from sklearn.model_selection import train_test_split\n",
    "from sklearn.metrics import mean_squared_error\n",
    "\n",
    "# DL utilities\n",
    "from tensorflow.keras.models import Sequential\n",
    "from tensorflow.keras.layers import Dense, Dropout\n",
    "from tensorflow.keras.optimizers import Adam\n",
    "from tensorflow.keras.wrappers.scikit_learn import KerasRegressor\n"
   ]
  },
  {
   "attachments": {},
   "cell_type": "markdown",
   "metadata": {},
   "source": [
    "# Load data"
   ]
  },
  {
   "cell_type": "code",
   "execution_count": 18,
   "metadata": {},
   "outputs": [],
   "source": [
    "data_train = pd.read_csv('./data/train_dataset.csv')\n",
    "data_test = pd.read_csv('./data/test_dataset.csv')"
   ]
  },
  {
   "attachments": {},
   "cell_type": "markdown",
   "metadata": {},
   "source": [
    "# Explore"
   ]
  },
  {
   "cell_type": "code",
   "execution_count": 13,
   "metadata": {},
   "outputs": [
    {
     "data": {
      "text/plain": [
       "(9972, 9)"
      ]
     },
     "execution_count": 13,
     "metadata": {},
     "output_type": "execute_result"
    }
   ],
   "source": [
    "data_train.shape"
   ]
  },
  {
   "cell_type": "code",
   "execution_count": 14,
   "metadata": {},
   "outputs": [
    {
     "data": {
      "text/html": [
       "<div>\n",
       "<style scoped>\n",
       "    .dataframe tbody tr th:only-of-type {\n",
       "        vertical-align: middle;\n",
       "    }\n",
       "\n",
       "    .dataframe tbody tr th {\n",
       "        vertical-align: top;\n",
       "    }\n",
       "\n",
       "    .dataframe thead th {\n",
       "        text-align: right;\n",
       "    }\n",
       "</style>\n",
       "<table border=\"1\" class=\"dataframe\">\n",
       "  <thead>\n",
       "    <tr style=\"text-align: right;\">\n",
       "      <th></th>\n",
       "      <th>date</th>\n",
       "      <th>season</th>\n",
       "      <th>holiday</th>\n",
       "      <th>weather</th>\n",
       "      <th>temp</th>\n",
       "      <th>feeling_temp</th>\n",
       "      <th>humidity</th>\n",
       "      <th>windspeed</th>\n",
       "      <th>count</th>\n",
       "    </tr>\n",
       "  </thead>\n",
       "  <tbody>\n",
       "    <tr>\n",
       "      <th>0</th>\n",
       "      <td>2011-01-01 00:00:00</td>\n",
       "      <td>winter</td>\n",
       "      <td>False</td>\n",
       "      <td>Few Clouds</td>\n",
       "      <td>9.84</td>\n",
       "      <td>14.395</td>\n",
       "      <td>81.0</td>\n",
       "      <td>0.0</td>\n",
       "      <td>16</td>\n",
       "    </tr>\n",
       "    <tr>\n",
       "      <th>1</th>\n",
       "      <td>2011-01-01 01:00:00</td>\n",
       "      <td>winter</td>\n",
       "      <td>False</td>\n",
       "      <td>Few Clouds</td>\n",
       "      <td>9.02</td>\n",
       "      <td>13.635</td>\n",
       "      <td>80.0</td>\n",
       "      <td>0.0</td>\n",
       "      <td>40</td>\n",
       "    </tr>\n",
       "    <tr>\n",
       "      <th>2</th>\n",
       "      <td>2011-01-01 02:00:00</td>\n",
       "      <td>winter</td>\n",
       "      <td>False</td>\n",
       "      <td>Few Clouds</td>\n",
       "      <td>9.02</td>\n",
       "      <td>13.635</td>\n",
       "      <td>80.0</td>\n",
       "      <td>0.0</td>\n",
       "      <td>32</td>\n",
       "    </tr>\n",
       "    <tr>\n",
       "      <th>3</th>\n",
       "      <td>2011-01-01 03:00:00</td>\n",
       "      <td>winter</td>\n",
       "      <td>False</td>\n",
       "      <td>Clear</td>\n",
       "      <td>9.84</td>\n",
       "      <td>14.395</td>\n",
       "      <td>75.0</td>\n",
       "      <td>0.0</td>\n",
       "      <td>13</td>\n",
       "    </tr>\n",
       "    <tr>\n",
       "      <th>4</th>\n",
       "      <td>2011-01-01 04:00:00</td>\n",
       "      <td>winter</td>\n",
       "      <td>False</td>\n",
       "      <td>Few Clouds</td>\n",
       "      <td>9.84</td>\n",
       "      <td>14.395</td>\n",
       "      <td>75.0</td>\n",
       "      <td>0.0</td>\n",
       "      <td>1</td>\n",
       "    </tr>\n",
       "  </tbody>\n",
       "</table>\n",
       "</div>"
      ],
      "text/plain": [
       "                  date  season holiday     weather  temp  feeling_temp  \\\n",
       "0  2011-01-01 00:00:00  winter   False  Few Clouds  9.84        14.395   \n",
       "1  2011-01-01 01:00:00  winter   False  Few Clouds  9.02        13.635   \n",
       "2  2011-01-01 02:00:00  winter   False  Few Clouds  9.02        13.635   \n",
       "3  2011-01-01 03:00:00  winter   False       Clear  9.84        14.395   \n",
       "4  2011-01-01 04:00:00  winter   False  Few Clouds  9.84        14.395   \n",
       "\n",
       "   humidity  windspeed  count  \n",
       "0      81.0        0.0     16  \n",
       "1      80.0        0.0     40  \n",
       "2      80.0        0.0     32  \n",
       "3      75.0        0.0     13  \n",
       "4      75.0        0.0      1  "
      ]
     },
     "execution_count": 14,
     "metadata": {},
     "output_type": "execute_result"
    }
   ],
   "source": [
    "data_train.head()"
   ]
  },
  {
   "cell_type": "code",
   "execution_count": 15,
   "metadata": {},
   "outputs": [
    {
     "data": {
      "text/html": [
       "<div>\n",
       "<style scoped>\n",
       "    .dataframe tbody tr th:only-of-type {\n",
       "        vertical-align: middle;\n",
       "    }\n",
       "\n",
       "    .dataframe tbody tr th {\n",
       "        vertical-align: top;\n",
       "    }\n",
       "\n",
       "    .dataframe thead th {\n",
       "        text-align: right;\n",
       "    }\n",
       "</style>\n",
       "<table border=\"1\" class=\"dataframe\">\n",
       "  <thead>\n",
       "    <tr style=\"text-align: right;\">\n",
       "      <th></th>\n",
       "      <th>temp</th>\n",
       "      <th>feeling_temp</th>\n",
       "      <th>humidity</th>\n",
       "      <th>windspeed</th>\n",
       "      <th>count</th>\n",
       "    </tr>\n",
       "  </thead>\n",
       "  <tbody>\n",
       "    <tr>\n",
       "      <th>count</th>\n",
       "      <td>9939.000000</td>\n",
       "      <td>9936.000000</td>\n",
       "      <td>9942.000000</td>\n",
       "      <td>9948.000000</td>\n",
       "      <td>9972.000000</td>\n",
       "    </tr>\n",
       "    <tr>\n",
       "      <th>mean</th>\n",
       "      <td>20.248943</td>\n",
       "      <td>23.673803</td>\n",
       "      <td>61.883826</td>\n",
       "      <td>12.815347</td>\n",
       "      <td>191.727838</td>\n",
       "    </tr>\n",
       "    <tr>\n",
       "      <th>std</th>\n",
       "      <td>7.788614</td>\n",
       "      <td>8.480240</td>\n",
       "      <td>19.188561</td>\n",
       "      <td>8.161022</td>\n",
       "      <td>181.081932</td>\n",
       "    </tr>\n",
       "    <tr>\n",
       "      <th>min</th>\n",
       "      <td>0.820000</td>\n",
       "      <td>0.760000</td>\n",
       "      <td>0.000000</td>\n",
       "      <td>0.000000</td>\n",
       "      <td>1.000000</td>\n",
       "    </tr>\n",
       "    <tr>\n",
       "      <th>25%</th>\n",
       "      <td>13.940000</td>\n",
       "      <td>16.665000</td>\n",
       "      <td>47.000000</td>\n",
       "      <td>7.001500</td>\n",
       "      <td>43.000000</td>\n",
       "    </tr>\n",
       "    <tr>\n",
       "      <th>50%</th>\n",
       "      <td>20.500000</td>\n",
       "      <td>24.240000</td>\n",
       "      <td>62.000000</td>\n",
       "      <td>12.998000</td>\n",
       "      <td>145.000000</td>\n",
       "    </tr>\n",
       "    <tr>\n",
       "      <th>75%</th>\n",
       "      <td>26.240000</td>\n",
       "      <td>31.060000</td>\n",
       "      <td>77.000000</td>\n",
       "      <td>16.997900</td>\n",
       "      <td>284.000000</td>\n",
       "    </tr>\n",
       "    <tr>\n",
       "      <th>max</th>\n",
       "      <td>41.000000</td>\n",
       "      <td>45.455000</td>\n",
       "      <td>100.000000</td>\n",
       "      <td>56.996900</td>\n",
       "      <td>977.000000</td>\n",
       "    </tr>\n",
       "  </tbody>\n",
       "</table>\n",
       "</div>"
      ],
      "text/plain": [
       "              temp  feeling_temp     humidity    windspeed        count\n",
       "count  9939.000000   9936.000000  9942.000000  9948.000000  9972.000000\n",
       "mean     20.248943     23.673803    61.883826    12.815347   191.727838\n",
       "std       7.788614      8.480240    19.188561     8.161022   181.081932\n",
       "min       0.820000      0.760000     0.000000     0.000000     1.000000\n",
       "25%      13.940000     16.665000    47.000000     7.001500    43.000000\n",
       "50%      20.500000     24.240000    62.000000    12.998000   145.000000\n",
       "75%      26.240000     31.060000    77.000000    16.997900   284.000000\n",
       "max      41.000000     45.455000   100.000000    56.996900   977.000000"
      ]
     },
     "execution_count": 15,
     "metadata": {},
     "output_type": "execute_result"
    }
   ],
   "source": [
    "data_train.describe()"
   ]
  },
  {
   "cell_type": "code",
   "execution_count": 19,
   "metadata": {},
   "outputs": [
    {
     "data": {
      "text/plain": [
       "date             0\n",
       "season           9\n",
       "holiday         27\n",
       "weather         26\n",
       "temp            33\n",
       "feeling_temp    36\n",
       "humidity        30\n",
       "windspeed       24\n",
       "count            0\n",
       "dtype: int64"
      ]
     },
     "execution_count": 19,
     "metadata": {},
     "output_type": "execute_result"
    }
   ],
   "source": [
    "data_train.isnull().sum()"
   ]
  },
  {
   "attachments": {},
   "cell_type": "markdown",
   "metadata": {},
   "source": [
    "# Columns"
   ]
  },
  {
   "cell_type": "code",
   "execution_count": 20,
   "metadata": {},
   "outputs": [
    {
     "name": "stdout",
     "output_type": "stream",
     "text": [
      "date\n",
      "2011-01-01 00:00:00    1\n",
      "2012-05-02 01:00:00    1\n",
      "2012-05-01 18:00:00    1\n",
      "2012-05-01 19:00:00    1\n",
      "2012-05-01 20:00:00    1\n",
      "                      ..\n",
      "2011-09-02 07:00:00    1\n",
      "2011-09-02 09:00:00    1\n",
      "2011-09-02 10:00:00    1\n",
      "2011-09-02 11:00:00    1\n",
      "2012-12-19 23:00:00    1\n",
      "Name: date, Length: 9972, dtype: int64\n",
      "season\n",
      "summer     2520\n",
      "fall       2499\n",
      "springs    2493\n",
      "winter     2451\n",
      "Name: season, dtype: int64\n",
      "holiday\n",
      "False    9651\n",
      "True      294\n",
      "Name: holiday, dtype: int64\n",
      "weather\n",
      "Few Clouds    3326\n",
      "Clear         3245\n",
      "Mist          2595\n",
      "Light snow     394\n",
      "Light rain     385\n",
      "Heavy rain       1\n",
      "Name: weather, dtype: int64\n",
      "temp\n",
      "14.76    430\n",
      "26.24    416\n",
      "28.70    391\n",
      "13.94    385\n",
      "18.86    372\n",
      "22.14    369\n",
      "16.40    368\n",
      "25.42    365\n",
      "27.06    364\n",
      "24.60    355\n",
      "22.96    350\n",
      "12.30    344\n",
      "21.32    332\n",
      "13.12    327\n",
      "29.52    315\n",
      "17.22    311\n",
      "10.66    308\n",
      "18.04    307\n",
      "20.50    301\n",
      "30.34    280\n",
      "9.84     267\n",
      "15.58    228\n",
      "31.16    227\n",
      "9.02     224\n",
      "27.88    204\n",
      "8.20     201\n",
      "32.80    187\n",
      "23.78    184\n",
      "11.48    170\n",
      "19.68    156\n",
      "6.56     131\n",
      "33.62    124\n",
      "7.38      96\n",
      "5.74      95\n",
      "31.98     91\n",
      "34.44     72\n",
      "35.26     68\n",
      "4.92      58\n",
      "36.90     42\n",
      "4.10      39\n",
      "37.72     28\n",
      "36.08     21\n",
      "3.28      11\n",
      "0.82       6\n",
      "38.54      6\n",
      "39.36      5\n",
      "2.46       5\n",
      "1.64       2\n",
      "41.00      1\n",
      "Name: temp, dtype: int64\n",
      "feeling_temp\n",
      "31.060    614\n",
      "25.760    386\n",
      "20.455    370\n",
      "22.725    370\n",
      "16.665    353\n",
      "26.515    350\n",
      "33.335    334\n",
      "25.000    333\n",
      "30.305    322\n",
      "21.210    310\n",
      "21.970    306\n",
      "15.150    306\n",
      "24.240    303\n",
      "17.425    290\n",
      "31.820    268\n",
      "34.850    261\n",
      "27.275    256\n",
      "32.575    253\n",
      "14.395    245\n",
      "11.365    240\n",
      "29.545    239\n",
      "15.910    233\n",
      "12.880    231\n",
      "19.695    228\n",
      "13.635    216\n",
      "34.090    201\n",
      "12.120    177\n",
      "23.485    156\n",
      "28.790    154\n",
      "10.605    149\n",
      "35.605    148\n",
      "36.365    117\n",
      "9.850     117\n",
      "18.180    112\n",
      "37.120    111\n",
      "9.090      95\n",
      "37.880     91\n",
      "28.030     72\n",
      "7.575      71\n",
      "38.635     67\n",
      "39.395     63\n",
      "6.060      61\n",
      "8.335      60\n",
      "6.820      57\n",
      "18.940     42\n",
      "40.150     38\n",
      "40.910     35\n",
      "5.305      24\n",
      "42.425     21\n",
      "41.665     21\n",
      "3.790      15\n",
      "4.545      11\n",
      "3.030       7\n",
      "43.940      7\n",
      "43.180      7\n",
      "2.275       6\n",
      "0.760       2\n",
      "44.695      2\n",
      "1.515       1\n",
      "45.455      1\n",
      "Name: feeling_temp, dtype: int64\n",
      "humidity\n",
      "88.0    336\n",
      "94.0    301\n",
      "83.0    284\n",
      "87.0    264\n",
      "70.0    240\n",
      "       ... \n",
      "96.0      1\n",
      "10.0      1\n",
      "12.0      1\n",
      "13.0      1\n",
      "91.0      1\n",
      "Name: humidity, Length: 88, dtype: int64\n",
      "windspeed\n",
      "0.0000     1194\n",
      "8.9981     1010\n",
      "11.0014     969\n",
      "7.0015      955\n",
      "12.9980     944\n",
      "15.0013     885\n",
      "6.0032      795\n",
      "16.9979     747\n",
      "19.0012     629\n",
      "19.9995     446\n",
      "22.0028     346\n",
      "23.9994     252\n",
      "26.0027     222\n",
      "27.9993     166\n",
      "30.0026     101\n",
      "31.0009      81\n",
      "32.9975      74\n",
      "35.0008      52\n",
      "39.0007      24\n",
      "36.9974      19\n",
      "43.0006      11\n",
      "40.9973      10\n",
      "43.9989       7\n",
      "46.0022       3\n",
      "56.9969       2\n",
      "47.9988       2\n",
      "51.9987       1\n",
      "50.0021       1\n",
      "Name: windspeed, dtype: int64\n",
      "count\n",
      "5      154\n",
      "4      134\n",
      "3      125\n",
      "6      123\n",
      "2      115\n",
      "      ... \n",
      "830      1\n",
      "819      1\n",
      "690      1\n",
      "685      1\n",
      "636      1\n",
      "Name: count, Length: 812, dtype: int64\n"
     ]
    }
   ],
   "source": [
    "for col in data_train.columns:\n",
    "    print(col)\n",
    "    print(data_train[col].value_counts())"
   ]
  },
  {
   "cell_type": "code",
   "execution_count": 21,
   "metadata": {},
   "outputs": [],
   "source": [
    "data_train.dropna(inplace=True)"
   ]
  },
  {
   "cell_type": "code",
   "execution_count": 22,
   "metadata": {},
   "outputs": [
    {
     "data": {
      "text/plain": [
       "date            0\n",
       "season          0\n",
       "holiday         0\n",
       "weather         0\n",
       "temp            0\n",
       "feeling_temp    0\n",
       "humidity        0\n",
       "windspeed       0\n",
       "count           0\n",
       "dtype: int64"
      ]
     },
     "execution_count": 22,
     "metadata": {},
     "output_type": "execute_result"
    }
   ],
   "source": [
    "data_train.isnull().sum()"
   ]
  },
  {
   "attachments": {},
   "cell_type": "markdown",
   "metadata": {},
   "source": [
    "# X & y"
   ]
  },
  {
   "cell_type": "code",
   "execution_count": 24,
   "metadata": {},
   "outputs": [
    {
     "data": {
      "text/plain": [
       "Index(['date', 'season', 'holiday', 'weather', 'temp', 'feeling_temp',\n",
       "       'humidity', 'windspeed', 'count'],\n",
       "      dtype='object')"
      ]
     },
     "execution_count": 24,
     "metadata": {},
     "output_type": "execute_result"
    }
   ],
   "source": [
    "data_train.columns"
   ]
  },
  {
   "cell_type": "code",
   "execution_count": 94,
   "metadata": {},
   "outputs": [],
   "source": [
    "X = data_train.drop(columns=['date', 'count'])\n",
    "y = data_train['count']"
   ]
  },
  {
   "attachments": {},
   "cell_type": "markdown",
   "metadata": {},
   "source": [
    "# X traitement"
   ]
  },
  {
   "cell_type": "code",
   "execution_count": 95,
   "metadata": {},
   "outputs": [],
   "source": [
    "X.replace(\n",
    "    {'holiday': {True: 1, False: 0}},\n",
    "inplace=True)"
   ]
  },
  {
   "cell_type": "code",
   "execution_count": 96,
   "metadata": {},
   "outputs": [],
   "source": [
    "X.replace(\n",
    "    {'weather': {'Light rain': 'Rain', 'Heavy rain': 'Rain'}},\n",
    "inplace=True)"
   ]
  },
  {
   "cell_type": "code",
   "execution_count": 97,
   "metadata": {},
   "outputs": [],
   "source": [
    "seasons = pd.get_dummies(X['season'], prefix='season')\n",
    "X = pd.concat([X, seasons], axis=1)\n",
    "X.drop('season', axis=1, inplace=True)"
   ]
  },
  {
   "cell_type": "code",
   "execution_count": 98,
   "metadata": {},
   "outputs": [],
   "source": [
    "weathers = pd.get_dummies(X['weather'], prefix='weather')\n",
    "X = pd.concat([X, weathers], axis=1)\n",
    "X.drop('weather', axis=1, inplace=True)"
   ]
  },
  {
   "attachments": {},
   "cell_type": "markdown",
   "metadata": {},
   "source": [
    "# Statistical fixing"
   ]
  },
  {
   "cell_type": "code",
   "execution_count": 99,
   "metadata": {},
   "outputs": [],
   "source": [
    "standardize_cols = ['temp', 'feeling_temp', 'humidity', 'windspeed']\n",
    "scaler = StandardScaler()\n",
    "X[standardize_cols] = scaler.fit_transform(X[standardize_cols])"
   ]
  },
  {
   "attachments": {},
   "cell_type": "markdown",
   "metadata": {},
   "source": [
    "# Func"
   ]
  },
  {
   "cell_type": "code",
   "execution_count": 85,
   "metadata": {},
   "outputs": [],
   "source": [
    "def treat(X, standardize_cols=standardize_cols, scaler=scaler):\n",
    "\n",
    "    X.replace(\n",
    "        {'holiday': {True: 1, False: 0}},\n",
    "    inplace=True)\n",
    "\n",
    "    X.replace(\n",
    "        {'weather': {'Light rain': 'Rain', 'Heavy rain': 'Rain'}},\n",
    "    inplace=True)\n",
    "\n",
    "    seasons = pd.get_dummies(X['season'], prefix='season')\n",
    "    X = pd.concat([X, seasons], axis=1)\n",
    "    X.drop('season', axis=1, inplace=True)\n",
    " \n",
    "    weathers = pd.get_dummies(X['weather'], prefix='weather')\n",
    "    X = pd.concat([X, weathers], axis=1)\n",
    "    X.drop('weather', axis=1, inplace=True)\n",
    "\n",
    "    X[standardize_cols] = scaler.transform(X[standardize_cols])\n",
    "\n",
    "    return X"
   ]
  },
  {
   "attachments": {},
   "cell_type": "markdown",
   "metadata": {},
   "source": [
    "# Feature selection"
   ]
  },
  {
   "cell_type": "code",
   "execution_count": 53,
   "metadata": {},
   "outputs": [
    {
     "name": "stdout",
     "output_type": "stream",
     "text": [
      "temp                  0.140000\n",
      "feeling_temp          0.131060\n",
      "humidity              0.100307\n",
      "season_winter         0.039111\n",
      "windspeed             0.018721\n",
      "weather_Mist          0.007494\n",
      "weather_Rain          0.005754\n",
      "season_springs        0.002324\n",
      "season_summer         0.000100\n",
      "holiday               0.000000\n",
      "season_fall           0.000000\n",
      "weather_Clear         0.000000\n",
      "weather_Few Clouds    0.000000\n",
      "weather_Light snow    0.000000\n",
      "dtype: float64\n"
     ]
    }
   ],
   "source": [
    "mi_scores = mutual_info_regression(X, y)\n",
    "mi_scores_series = pd.Series(mi_scores, index=X.columns)\n",
    "mi_scores_sorted = mi_scores_series.sort_values(ascending=False)\n",
    "print(mi_scores_sorted)"
   ]
  },
  {
   "cell_type": "code",
   "execution_count": 58,
   "metadata": {},
   "outputs": [
    {
     "name": "stdout",
     "output_type": "stream",
     "text": [
      "holiday: 0.01\n",
      "temp: 0.14\n",
      "feeling_temp: 0.22\n",
      "humidity: 0.25\n",
      "windspeed: 0.20\n",
      "season_fall: 0.03\n",
      "season_springs: 0.02\n",
      "season_summer: 0.02\n",
      "season_winter: 0.01\n",
      "weather_Clear: 0.03\n",
      "weather_Few Clouds: 0.03\n",
      "weather_Light snow: 0.01\n",
      "weather_Mist: 0.03\n",
      "weather_Rain: 0.01\n"
     ]
    }
   ],
   "source": [
    "tree = DecisionTreeRegressor()\n",
    "tree.fit(X, y)\n",
    "for column, impo in zip(X.columns,tree.feature_importances_):\n",
    "    print(f\"{column}: {impo:.2f}\")"
   ]
  },
  {
   "cell_type": "code",
   "execution_count": 100,
   "metadata": {},
   "outputs": [],
   "source": [
    "X_weather = X[['temp', 'feeling_temp', 'humidity', 'windspeed']]"
   ]
  },
  {
   "attachments": {},
   "cell_type": "markdown",
   "metadata": {},
   "source": [
    "# model"
   ]
  },
  {
   "cell_type": "code",
   "execution_count": 102,
   "metadata": {},
   "outputs": [
    {
     "name": "stdout",
     "output_type": "stream",
     "text": [
      "Best hyperparameters:  {'learning_rate': 0.01, 'max_depth': 5, 'n_estimators': 200}\n",
      "RMSE:  153.29103826364792\n"
     ]
    }
   ],
   "source": [
    "xgb_reg = xgb.XGBRegressor()\n",
    "\n",
    "param_grid = {\n",
    "    'n_estimators': [500, 200],\n",
    "    'max_depth': [5, 7],\n",
    "    'learning_rate': [0.01, 0.05]\n",
    "}\n",
    "\n",
    "grid_search = GridSearchCV(estimator=xgb_reg, param_grid=param_grid, cv=5, scoring='neg_root_mean_squared_error')\n",
    "\n",
    "grid_search.fit(X_weather, y, verbose=2)\n",
    "\n",
    "print(\"Best hyperparameters: \", grid_search.best_params_)\n",
    "\n",
    "y_pred = grid_search.predict(X_weather)\n",
    "\n",
    "rmse = mean_squared_error(y, y_pred, squared=False)\n",
    "\n",
    "print(\"RMSE: \", rmse)"
   ]
  },
  {
   "cell_type": "code",
   "execution_count": 89,
   "metadata": {},
   "outputs": [],
   "source": [
    "model_final = grid_search.best_estimator_"
   ]
  },
  {
   "attachments": {},
   "cell_type": "markdown",
   "metadata": {},
   "source": [
    "# Submission"
   ]
  },
  {
   "cell_type": "code",
   "execution_count": 82,
   "metadata": {},
   "outputs": [
    {
     "data": {
      "text/plain": [
       "Index(['date', 'season', 'holiday', 'weather', 'temp', 'feeling_temp',\n",
       "       'humidity', 'windspeed'],\n",
       "      dtype='object')"
      ]
     },
     "execution_count": 82,
     "metadata": {},
     "output_type": "execute_result"
    }
   ],
   "source": [
    "data_test.columns"
   ]
  },
  {
   "cell_type": "code",
   "execution_count": 84,
   "metadata": {},
   "outputs": [],
   "source": [
    "dates = data_test['date']\n",
    "X_test = data_test.drop(columns=['date'])"
   ]
  },
  {
   "cell_type": "code",
   "execution_count": 86,
   "metadata": {},
   "outputs": [],
   "source": [
    "X_test = treat(X_test)"
   ]
  },
  {
   "cell_type": "code",
   "execution_count": 90,
   "metadata": {},
   "outputs": [],
   "source": [
    "predictions = model_final.predict(X_test)"
   ]
  },
  {
   "cell_type": "code",
   "execution_count": 92,
   "metadata": {},
   "outputs": [],
   "source": [
    "columns = {\n",
    "    'date': dates,\n",
    "    'count': [int(x) for x in predictions]\n",
    "}"
   ]
  },
  {
   "cell_type": "code",
   "execution_count": 93,
   "metadata": {},
   "outputs": [],
   "source": [
    "pd.DataFrame(columns).to_csv('submission.csv', index=False)"
   ]
  }
 ],
 "metadata": {
  "kernelspec": {
   "display_name": "python_dev",
   "language": "python",
   "name": "python3"
  },
  "language_info": {
   "codemirror_mode": {
    "name": "ipython",
    "version": 3
   },
   "file_extension": ".py",
   "mimetype": "text/x-python",
   "name": "python",
   "nbconvert_exporter": "python",
   "pygments_lexer": "ipython3",
   "version": "3.10.10"
  },
  "orig_nbformat": 4
 },
 "nbformat": 4,
 "nbformat_minor": 2
}
