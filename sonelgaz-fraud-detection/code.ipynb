{
 "cells": [
  {
   "attachments": {},
   "cell_type": "markdown",
   "metadata": {},
   "source": [
    "# Importing the modules"
   ]
  },
  {
   "cell_type": "code",
   "execution_count": 71,
   "metadata": {},
   "outputs": [],
   "source": [
    "import pandas as pd\n",
    "import numpy as np\n",
    "import matplotlib.pyplot as plt\n",
    "import sklearn\n",
    "import tensorflow as tf\n",
    "import tensorflow.keras as keras\n",
    "import seaborn as sns"
   ]
  },
  {
   "attachments": {},
   "cell_type": "markdown",
   "metadata": {},
   "source": [
    "# Importing data"
   ]
  },
  {
   "cell_type": "code",
   "execution_count": 162,
   "metadata": {},
   "outputs": [
    {
     "name": "stderr",
     "output_type": "stream",
     "text": [
      "C:\\Users\\PCPRODZ\\AppData\\Local\\Temp\\ipykernel_17708\\3955498508.py:2: DtypeWarning: Columns (4) have mixed types. Specify dtype option on import or set low_memory=False.\n",
      "  df_invoice_train = pd.read_csv('./data/dataset/sonelgaz_train/invoice_train.csv')\n"
     ]
    }
   ],
   "source": [
    "df_client_train = pd.read_csv('./data/dataset/sonelgaz_train/client_train.csv')\n",
    "df_invoice_train = pd.read_csv('./data/dataset/sonelgaz_train/invoice_train.csv')\n",
    "\n",
    "df_client_test = pd.read_csv('./data/dataset/sonelgaz_test/client_test.csv')\n",
    "df_invoice_test = pd.read_csv('./data/dataset/sonelgaz_test/invoice_test.csv')"
   ]
  },
  {
   "attachments": {},
   "cell_type": "markdown",
   "metadata": {},
   "source": [
    "# Exploring data"
   ]
  },
  {
   "cell_type": "code",
   "execution_count": 3,
   "metadata": {},
   "outputs": [
    {
     "data": {
      "text/plain": [
       "(Index(['disrict', 'client_id', 'client_catg', 'region', 'creation_date',\n",
       "        'target'],\n",
       "       dtype='object'),\n",
       " Index(['client_id', 'invoice_date', 'tarif_type', 'counter_number',\n",
       "        'counter_statue', 'counter_code', 'reading_remarque',\n",
       "        'counter_coefficient', 'consommation_level_1', 'consommation_level_2',\n",
       "        'consommation_level_3', 'consommation_level_4', 'old_index',\n",
       "        'new_index', 'months_number', 'counter_type'],\n",
       "       dtype='object'))"
      ]
     },
     "execution_count": 3,
     "metadata": {},
     "output_type": "execute_result"
    }
   ],
   "source": [
    "df_client_train.columns, df_invoice_train.columns"
   ]
  },
  {
   "cell_type": "code",
   "execution_count": 4,
   "metadata": {},
   "outputs": [],
   "source": [
    "def generate_empty_col(df):\n",
    "    col = dict()\n",
    "\n",
    "    for id in df['client_id'].values:\n",
    "        col[id] = np.nan\n",
    "\n",
    "    return col"
   ]
  },
  {
   "cell_type": "code",
   "execution_count": 5,
   "metadata": {},
   "outputs": [],
   "source": [
    "def create_col(client, invoice, column, type):\n",
    "    col = generate_empty_col(client)\n",
    "    if type == \"freq\":\n",
    "        for value, id in zip(invoice.groupby('client_id')[column].unique().map(len), invoice.groupby('client_id')[column].unique().map(len).index):\n",
    "            col[id] = value\n",
    "\n",
    "    elif type == \"mean\":\n",
    "        for value, id in zip(invoice.groupby('client_id')[column].mean(), invoice.groupby('client_id')[column].mean().index):\n",
    "            col[id] = value\n",
    "\n",
    "    elif type == \"var\":\n",
    "        for value, id in zip(invoice.groupby('client_id')[column].var(), invoice.groupby('client_id')[column].var().index):\n",
    "            col[id] = value\n",
    "\n",
    "    elif type == \"std\":\n",
    "        for value, id in zip(invoice.groupby('client_id')[column].std(), invoice.groupby('client_id')[column].std().index):\n",
    "            col[id] = value\n",
    "\n",
    "    elif type == \"mode\":\n",
    "        result = invoice.groupby('client_id')[column].unique().map(lambda x: x[0] if len(x) == 1 else \"BOTH\")\n",
    "        for value, id in zip(result, result.index):\n",
    "            col[id] = value\n",
    "\n",
    "    return list(col.values())"
   ]
  },
  {
   "cell_type": "code",
   "execution_count": 6,
   "metadata": {},
   "outputs": [],
   "source": [
    "def make_elec_gaz_col(client_train):\n",
    "    ELEC = []\n",
    "    GAZ = []\n",
    "\n",
    "    for row in client_train[\"counter_type\"]:\n",
    "        if row==\"ELEC\":\n",
    "            ELEC.append(1)\n",
    "            GAZ.append(0)\n",
    "        elif row==\"GAZ\":\n",
    "            ELEC.append(0)\n",
    "            GAZ.append(1)\n",
    "        else:\n",
    "            ELEC.append(1)\n",
    "            GAZ.append(1)\n",
    "\n",
    "    client_train[\"ELEC\"] = ELEC\n",
    "    client_train[\"GAZ\"] = GAZ\n",
    "\n",
    "    client_train.drop([\"counter_type\"], axis=1, inplace=True)\n",
    "\n",
    "    return client_train"
   ]
  },
  {
   "cell_type": "code",
   "execution_count": 7,
   "metadata": {},
   "outputs": [],
   "source": [
    "def generate_data(client, invoice):\n",
    "\n",
    "    \"\"\"\n",
    "    Generate data for the invoice.\n",
    "    \"\"\"\n",
    "\n",
    "    invoice['diff_index'] = invoice['new_index'] - invoice['old_index']\n",
    "\n",
    "    invoice['mean_consommation'] = (  invoice['consommation_level_1'] + invoice['consommation_level_2'] +  invoice['consommation_level_3'] + invoice['consommation_level_4'] ) / 4\n",
    "\n",
    "    freq_columns = ['tarif_type', 'counter_number', 'counter_code', 'reading_remarque', 'counter_statue', 'counter_code', 'reading_remarque', ]\n",
    "    mean_columns = ['counter_coefficient', 'consommation_level_1', 'consommation_level_2', 'consommation_level_3', 'consommation_level_4', 'mean_consommation','old_index', 'new_index', 'diff_index']\n",
    "    mode_columns = ['counter_type']\n",
    "\n",
    "    for column in freq_columns:\n",
    "        print(\"freq => \", column)\n",
    "        client[column] = create_col(client, invoice, column, \"freq\")\n",
    "\n",
    "    for column in mean_columns:\n",
    "        print(\"mean => \", column)\n",
    "\n",
    "        client[f\"{column}_mean\"] = create_col(client, invoice, column, \"mean\")\n",
    "        client[f\"{column}_var\"] = create_col(client, invoice, column, \"var\")\n",
    "        client[f\"{column}_std\"] = create_col(client, invoice, column, \"std\")\n",
    "\n",
    "    for column in mode_columns:\n",
    "        print(\"mode => \", column)\n",
    "        client[column] = create_col(client, invoice, column, \"mode\")\n",
    "\n",
    "    client['diff_mean_index'] = client['new_index_mean'] - client['old_index_mean']\n",
    "\n",
    "    client = make_elec_gaz_col(client)\n",
    "\n",
    "    return client, invoice"
   ]
  },
  {
   "cell_type": "code",
   "execution_count": null,
   "metadata": {},
   "outputs": [],
   "source": [
    "client_train, invoice_train = generate_data(df_client_train, df_invoice_train)"
   ]
  },
  {
   "cell_type": "code",
   "execution_count": 9,
   "metadata": {},
   "outputs": [],
   "source": [
    "client_train.drop([\"creation_date\"], axis=1, inplace=True)"
   ]
  },
  {
   "cell_type": "code",
   "execution_count": 10,
   "metadata": {},
   "outputs": [],
   "source": [
    "client_train.dropna(inplace=True)"
   ]
  },
  {
   "cell_type": "code",
   "execution_count": null,
   "metadata": {},
   "outputs": [],
   "source": [
    "client_train.isnull().sum()"
   ]
  },
  {
   "attachments": {},
   "cell_type": "markdown",
   "metadata": {},
   "source": [
    "# new dataset"
   ]
  },
  {
   "cell_type": "code",
   "execution_count": 14,
   "metadata": {},
   "outputs": [],
   "source": [
    "client_train.to_csv('data_train.csv', index = False)"
   ]
  },
  {
   "cell_type": "code",
   "execution_count": 65,
   "metadata": {},
   "outputs": [],
   "source": [
    "client_train.to_csv('clean_data.csv', index=False)"
   ]
  },
  {
   "cell_type": "code",
   "execution_count": 146,
   "metadata": {},
   "outputs": [],
   "source": [
    "client_train = pd.read_csv('data_train.csv')"
   ]
  },
  {
   "cell_type": "code",
   "execution_count": 147,
   "metadata": {},
   "outputs": [],
   "source": [
    "float_cols = client_train.select_dtypes(include=['float'])\n",
    "\n",
    "client_train[float_cols.columns] = float_cols.round(2)"
   ]
  },
  {
   "cell_type": "code",
   "execution_count": null,
   "metadata": {},
   "outputs": [],
   "source": [
    "client_train.columns"
   ]
  },
  {
   "cell_type": "code",
   "execution_count": 103,
   "metadata": {},
   "outputs": [],
   "source": [
    "drop = ['disrict', 'client_catg', 'region' ]\n",
    "\n",
    "client_train.drop(drop, axis=1, inplace=True)"
   ]
  },
  {
   "cell_type": "code",
   "execution_count": 148,
   "metadata": {},
   "outputs": [],
   "source": [
    "encode = ['disrict', 'client_catg', 'region']\n",
    "\n",
    "for col in encode:\n",
    "    client_train[col] = client_train[col].astype('str')\n",
    "\n",
    "encoded_cols = pd.get_dummies(client_train[encode])\n",
    "client_train = pd.concat([client_train, encoded_cols], axis=1)\n",
    "\n",
    "client_train.drop(encode, axis=1, inplace=True)"
   ]
  },
  {
   "cell_type": "code",
   "execution_count": null,
   "metadata": {},
   "outputs": [],
   "source": [
    "client_train.columns"
   ]
  },
  {
   "cell_type": "code",
   "execution_count": null,
   "metadata": {},
   "outputs": [],
   "source": [
    "for col in client_train.columns:\n",
    "    print(col)\n",
    "    print(client_train[col].value_counts(), '\\n')"
   ]
  },
  {
   "cell_type": "code",
   "execution_count": 149,
   "metadata": {},
   "outputs": [],
   "source": [
    "normalize = ['counter_coefficient_mean', 'counter_coefficient_var', 'counter_coefficient_std', 'consommation_level_1_mean', 'consommation_level_1_var', 'consommation_level_1_std', 'consommation_level_2_mean', 'consommation_level_2_var', 'consommation_level_2_std', 'consommation_level_3_mean', 'consommation_level_3_var', 'consommation_level_3_std', 'consommation_level_4_mean', 'consommation_level_4_var', 'consommation_level_4_std', 'mean_consommation_mean', 'mean_consommation_var', 'mean_consommation_std', 'old_index_mean', 'old_index_var', 'old_index_std', 'new_index_mean', 'new_index_var', 'new_index_std', 'diff_index_mean', 'diff_index_var', 'diff_index_std', 'diff_mean_index']\n",
    "\n",
    "for col in normalize:\n",
    "    client_train[col] = (client_train[col] - client_train[col].mean()) / client_train[col].std()"
   ]
  },
  {
   "cell_type": "code",
   "execution_count": 125,
   "metadata": {},
   "outputs": [],
   "source": [
    "def clean_data(client_train, categorize=True):\n",
    "\n",
    "    float_cols = client_train.select_dtypes(include=['float'])\n",
    "    client_train[float_cols.columns] = float_cols.round(2)\n",
    "\n",
    "    if categorize:\n",
    "        encode = ['disrict', 'client_catg', 'region']\n",
    "        for col in encode:\n",
    "            client_train[col] = client_train[col].astype('str')\n",
    "        encoded_cols = pd.get_dummies(client_train[encode])\n",
    "        client_train = pd.concat([client_train, encoded_cols], axis=1)\n",
    "        client_train.drop(encode, axis=1, inplace=True)\n",
    "    else:\n",
    "        drop = ['disrict', 'client_catg', 'region' ]\n",
    "        client_train.drop(drop, axis=1, inplace=True)\n",
    "\n",
    "    normalize = ['counter_coefficient_mean', 'counter_coefficient_var', 'counter_coefficient_std', 'consommation_level_1_mean', 'consommation_level_1_var', 'consommation_level_1_std', 'consommation_level_2_mean', 'consommation_level_2_var', 'consommation_level_2_std', 'consommation_level_3_mean', 'consommation_level_3_var', 'consommation_level_3_std', 'consommation_level_4_mean', 'consommation_level_4_var', 'consommation_level_4_std', 'mean_consommation_mean', 'mean_consommation_var', 'mean_consommation_std', 'old_index_mean', 'old_index_var', 'old_index_std', 'new_index_mean', 'new_index_var', 'new_index_std', 'diff_index_mean', 'diff_index_var', 'diff_index_std', 'diff_mean_index']\n",
    "    for col in normalize:\n",
    "        client_train[col] = (client_train[col] - client_train[col].mean()) / client_train[col].std()\n",
    "\n",
    "    return client_train"
   ]
  },
  {
   "attachments": {},
   "cell_type": "markdown",
   "metadata": {},
   "source": [
    "# Feature selection & engineering"
   ]
  },
  {
   "cell_type": "code",
   "execution_count": null,
   "metadata": {},
   "outputs": [],
   "source": [
    "client_train_1 = client_train[client_train['target'] == 1]\n",
    "client_train_0 = client_train[client_train['target'] == 0]\n",
    "\n",
    "for col in client_train_1.select_dtypes(include=['int64', 'float64']):\n",
    "    plt.hist(client_train_1[col], alpha=0.5, label='Target 1')\n",
    "    plt.hist(client_train_0[col], alpha=0.5, label='Target 0')\n",
    "    plt.title(f'Histogram of {col} by target')\n",
    "    plt.legend()\n",
    "    plt.show()\n"
   ]
  },
  {
   "cell_type": "code",
   "execution_count": null,
   "metadata": {},
   "outputs": [],
   "source": [
    "from sklearn.feature_selection import SelectKBest, mutual_info_classif\n",
    "\n",
    "X = client_train.drop(['target', 'client_id'], axis=1)\n",
    "y = client_train['target']\n",
    "\n",
    "selector = SelectKBest(score_func=mutual_info_classif, k='all')\n",
    "selector.fit(X, y)\n",
    "\n",
    "scores = selector.scores_\n",
    "feature_names = X.columns\n",
    "\n",
    "mi_scores = dict(zip(feature_names, scores))\n",
    "\n",
    "for name, score in sorted(mi_scores.items(), key=lambda x: x[1], reverse=True):\n",
    "    print(f\"{name}: {score:.2f}\")\n"
   ]
  },
  {
   "attachments": {},
   "cell_type": "markdown",
   "metadata": {},
   "source": [
    "# Imbalance"
   ]
  },
  {
   "cell_type": "code",
   "execution_count": 150,
   "metadata": {},
   "outputs": [],
   "source": [
    "ids = client_train['client_id'].values\n",
    "X_imb = client_train.drop(['target', 'client_id'], axis=1)\n",
    "y_imb = client_train['target']"
   ]
  },
  {
   "cell_type": "code",
   "execution_count": 151,
   "metadata": {},
   "outputs": [],
   "source": [
    "from imblearn.over_sampling import RandomOverSampler\n",
    "\n",
    "oversampler = RandomOverSampler(random_state=42)\n",
    "\n",
    "X, y = oversampler.fit_resample(X_imb, y_imb)"
   ]
  },
  {
   "cell_type": "code",
   "execution_count": 109,
   "metadata": {},
   "outputs": [
    {
     "data": {
      "text/plain": [
       "0.0    123753\n",
       "1.0    123753\n",
       "Name: target, dtype: int64"
      ]
     },
     "execution_count": 109,
     "metadata": {},
     "output_type": "execute_result"
    }
   ],
   "source": [
    "y.value_counts()"
   ]
  },
  {
   "cell_type": "code",
   "execution_count": 158,
   "metadata": {},
   "outputs": [
    {
     "data": {
      "text/html": [
       "<div>\n",
       "<style scoped>\n",
       "    .dataframe tbody tr th:only-of-type {\n",
       "        vertical-align: middle;\n",
       "    }\n",
       "\n",
       "    .dataframe tbody tr th {\n",
       "        vertical-align: top;\n",
       "    }\n",
       "\n",
       "    .dataframe thead th {\n",
       "        text-align: right;\n",
       "    }\n",
       "</style>\n",
       "<table border=\"1\" class=\"dataframe\">\n",
       "  <thead>\n",
       "    <tr style=\"text-align: right;\">\n",
       "      <th></th>\n",
       "      <th>tarif_type</th>\n",
       "      <th>counter_number</th>\n",
       "      <th>counter_code</th>\n",
       "      <th>reading_remarque</th>\n",
       "      <th>counter_statue</th>\n",
       "      <th>counter_coefficient_mean</th>\n",
       "      <th>counter_coefficient_var</th>\n",
       "      <th>counter_coefficient_std</th>\n",
       "      <th>consommation_level_1_mean</th>\n",
       "      <th>consommation_level_1_var</th>\n",
       "      <th>...</th>\n",
       "      <th>region_308</th>\n",
       "      <th>region_309</th>\n",
       "      <th>region_310</th>\n",
       "      <th>region_311</th>\n",
       "      <th>region_312</th>\n",
       "      <th>region_313</th>\n",
       "      <th>region_371</th>\n",
       "      <th>region_372</th>\n",
       "      <th>region_379</th>\n",
       "      <th>region_399</th>\n",
       "    </tr>\n",
       "  </thead>\n",
       "  <tbody>\n",
       "    <tr>\n",
       "      <th>0</th>\n",
       "      <td>1</td>\n",
       "      <td>1</td>\n",
       "      <td>2</td>\n",
       "      <td>3</td>\n",
       "      <td>1</td>\n",
       "      <td>-0.007346</td>\n",
       "      <td>-0.00621</td>\n",
       "      <td>-0.010978</td>\n",
       "      <td>-0.147801</td>\n",
       "      <td>-0.016457</td>\n",
       "      <td>...</td>\n",
       "      <td>0</td>\n",
       "      <td>0</td>\n",
       "      <td>0</td>\n",
       "      <td>0</td>\n",
       "      <td>0</td>\n",
       "      <td>0</td>\n",
       "      <td>0</td>\n",
       "      <td>0</td>\n",
       "      <td>0</td>\n",
       "      <td>0</td>\n",
       "    </tr>\n",
       "    <tr>\n",
       "      <th>1</th>\n",
       "      <td>1</td>\n",
       "      <td>1</td>\n",
       "      <td>1</td>\n",
       "      <td>3</td>\n",
       "      <td>1</td>\n",
       "      <td>-0.007346</td>\n",
       "      <td>-0.00621</td>\n",
       "      <td>-0.010978</td>\n",
       "      <td>0.260214</td>\n",
       "      <td>-0.020024</td>\n",
       "      <td>...</td>\n",
       "      <td>0</td>\n",
       "      <td>0</td>\n",
       "      <td>0</td>\n",
       "      <td>0</td>\n",
       "      <td>0</td>\n",
       "      <td>0</td>\n",
       "      <td>0</td>\n",
       "      <td>0</td>\n",
       "      <td>0</td>\n",
       "      <td>0</td>\n",
       "    </tr>\n",
       "    <tr>\n",
       "      <th>2</th>\n",
       "      <td>1</td>\n",
       "      <td>1</td>\n",
       "      <td>2</td>\n",
       "      <td>3</td>\n",
       "      <td>1</td>\n",
       "      <td>-0.007346</td>\n",
       "      <td>-0.00621</td>\n",
       "      <td>-0.010978</td>\n",
       "      <td>0.739692</td>\n",
       "      <td>-0.005987</td>\n",
       "      <td>...</td>\n",
       "      <td>0</td>\n",
       "      <td>0</td>\n",
       "      <td>0</td>\n",
       "      <td>0</td>\n",
       "      <td>0</td>\n",
       "      <td>0</td>\n",
       "      <td>0</td>\n",
       "      <td>0</td>\n",
       "      <td>0</td>\n",
       "      <td>0</td>\n",
       "    </tr>\n",
       "    <tr>\n",
       "      <th>3</th>\n",
       "      <td>1</td>\n",
       "      <td>1</td>\n",
       "      <td>1</td>\n",
       "      <td>2</td>\n",
       "      <td>1</td>\n",
       "      <td>-0.007346</td>\n",
       "      <td>-0.00621</td>\n",
       "      <td>-0.010978</td>\n",
       "      <td>-0.846322</td>\n",
       "      <td>-0.022469</td>\n",
       "      <td>...</td>\n",
       "      <td>0</td>\n",
       "      <td>0</td>\n",
       "      <td>0</td>\n",
       "      <td>0</td>\n",
       "      <td>0</td>\n",
       "      <td>0</td>\n",
       "      <td>0</td>\n",
       "      <td>0</td>\n",
       "      <td>0</td>\n",
       "      <td>0</td>\n",
       "    </tr>\n",
       "    <tr>\n",
       "      <th>4</th>\n",
       "      <td>1</td>\n",
       "      <td>1</td>\n",
       "      <td>1</td>\n",
       "      <td>2</td>\n",
       "      <td>1</td>\n",
       "      <td>-0.007346</td>\n",
       "      <td>-0.00621</td>\n",
       "      <td>-0.010978</td>\n",
       "      <td>0.471382</td>\n",
       "      <td>-0.019314</td>\n",
       "      <td>...</td>\n",
       "      <td>0</td>\n",
       "      <td>0</td>\n",
       "      <td>0</td>\n",
       "      <td>0</td>\n",
       "      <td>0</td>\n",
       "      <td>0</td>\n",
       "      <td>0</td>\n",
       "      <td>0</td>\n",
       "      <td>0</td>\n",
       "      <td>0</td>\n",
       "    </tr>\n",
       "    <tr>\n",
       "      <th>...</th>\n",
       "      <td>...</td>\n",
       "      <td>...</td>\n",
       "      <td>...</td>\n",
       "      <td>...</td>\n",
       "      <td>...</td>\n",
       "      <td>...</td>\n",
       "      <td>...</td>\n",
       "      <td>...</td>\n",
       "      <td>...</td>\n",
       "      <td>...</td>\n",
       "      <td>...</td>\n",
       "      <td>...</td>\n",
       "      <td>...</td>\n",
       "      <td>...</td>\n",
       "      <td>...</td>\n",
       "      <td>...</td>\n",
       "      <td>...</td>\n",
       "      <td>...</td>\n",
       "      <td>...</td>\n",
       "      <td>...</td>\n",
       "      <td>...</td>\n",
       "    </tr>\n",
       "    <tr>\n",
       "      <th>247501</th>\n",
       "      <td>2</td>\n",
       "      <td>2</td>\n",
       "      <td>2</td>\n",
       "      <td>3</td>\n",
       "      <td>2</td>\n",
       "      <td>-0.007346</td>\n",
       "      <td>-0.00621</td>\n",
       "      <td>-0.010978</td>\n",
       "      <td>0.229624</td>\n",
       "      <td>-0.006464</td>\n",
       "      <td>...</td>\n",
       "      <td>0</td>\n",
       "      <td>0</td>\n",
       "      <td>0</td>\n",
       "      <td>0</td>\n",
       "      <td>0</td>\n",
       "      <td>0</td>\n",
       "      <td>0</td>\n",
       "      <td>0</td>\n",
       "      <td>0</td>\n",
       "      <td>0</td>\n",
       "    </tr>\n",
       "    <tr>\n",
       "      <th>247502</th>\n",
       "      <td>2</td>\n",
       "      <td>3</td>\n",
       "      <td>2</td>\n",
       "      <td>3</td>\n",
       "      <td>3</td>\n",
       "      <td>-0.007346</td>\n",
       "      <td>-0.00621</td>\n",
       "      <td>-0.010978</td>\n",
       "      <td>-0.156791</td>\n",
       "      <td>-0.015914</td>\n",
       "      <td>...</td>\n",
       "      <td>0</td>\n",
       "      <td>0</td>\n",
       "      <td>0</td>\n",
       "      <td>1</td>\n",
       "      <td>0</td>\n",
       "      <td>0</td>\n",
       "      <td>0</td>\n",
       "      <td>0</td>\n",
       "      <td>0</td>\n",
       "      <td>0</td>\n",
       "    </tr>\n",
       "    <tr>\n",
       "      <th>247503</th>\n",
       "      <td>2</td>\n",
       "      <td>3</td>\n",
       "      <td>2</td>\n",
       "      <td>3</td>\n",
       "      <td>1</td>\n",
       "      <td>-0.007346</td>\n",
       "      <td>-0.00621</td>\n",
       "      <td>-0.010978</td>\n",
       "      <td>0.151120</td>\n",
       "      <td>-0.011852</td>\n",
       "      <td>...</td>\n",
       "      <td>0</td>\n",
       "      <td>0</td>\n",
       "      <td>0</td>\n",
       "      <td>1</td>\n",
       "      <td>0</td>\n",
       "      <td>0</td>\n",
       "      <td>0</td>\n",
       "      <td>0</td>\n",
       "      <td>0</td>\n",
       "      <td>0</td>\n",
       "    </tr>\n",
       "    <tr>\n",
       "      <th>247504</th>\n",
       "      <td>2</td>\n",
       "      <td>3</td>\n",
       "      <td>2</td>\n",
       "      <td>3</td>\n",
       "      <td>2</td>\n",
       "      <td>-0.007346</td>\n",
       "      <td>-0.00621</td>\n",
       "      <td>-0.010978</td>\n",
       "      <td>-0.313680</td>\n",
       "      <td>-0.018668</td>\n",
       "      <td>...</td>\n",
       "      <td>0</td>\n",
       "      <td>0</td>\n",
       "      <td>0</td>\n",
       "      <td>0</td>\n",
       "      <td>0</td>\n",
       "      <td>0</td>\n",
       "      <td>0</td>\n",
       "      <td>0</td>\n",
       "      <td>0</td>\n",
       "      <td>0</td>\n",
       "    </tr>\n",
       "    <tr>\n",
       "      <th>247505</th>\n",
       "      <td>2</td>\n",
       "      <td>3</td>\n",
       "      <td>3</td>\n",
       "      <td>3</td>\n",
       "      <td>1</td>\n",
       "      <td>-0.007346</td>\n",
       "      <td>-0.00621</td>\n",
       "      <td>-0.010978</td>\n",
       "      <td>-0.244782</td>\n",
       "      <td>-0.016517</td>\n",
       "      <td>...</td>\n",
       "      <td>0</td>\n",
       "      <td>0</td>\n",
       "      <td>0</td>\n",
       "      <td>0</td>\n",
       "      <td>0</td>\n",
       "      <td>0</td>\n",
       "      <td>0</td>\n",
       "      <td>0</td>\n",
       "      <td>0</td>\n",
       "      <td>0</td>\n",
       "    </tr>\n",
       "  </tbody>\n",
       "</table>\n",
       "<p>247506 rows × 66 columns</p>\n",
       "</div>"
      ],
      "text/plain": [
       "        tarif_type  counter_number  counter_code  reading_remarque  \\\n",
       "0                1               1             2                 3   \n",
       "1                1               1             1                 3   \n",
       "2                1               1             2                 3   \n",
       "3                1               1             1                 2   \n",
       "4                1               1             1                 2   \n",
       "...            ...             ...           ...               ...   \n",
       "247501           2               2             2                 3   \n",
       "247502           2               3             2                 3   \n",
       "247503           2               3             2                 3   \n",
       "247504           2               3             2                 3   \n",
       "247505           2               3             3                 3   \n",
       "\n",
       "        counter_statue  counter_coefficient_mean  counter_coefficient_var  \\\n",
       "0                    1                 -0.007346                 -0.00621   \n",
       "1                    1                 -0.007346                 -0.00621   \n",
       "2                    1                 -0.007346                 -0.00621   \n",
       "3                    1                 -0.007346                 -0.00621   \n",
       "4                    1                 -0.007346                 -0.00621   \n",
       "...                ...                       ...                      ...   \n",
       "247501               2                 -0.007346                 -0.00621   \n",
       "247502               3                 -0.007346                 -0.00621   \n",
       "247503               1                 -0.007346                 -0.00621   \n",
       "247504               2                 -0.007346                 -0.00621   \n",
       "247505               1                 -0.007346                 -0.00621   \n",
       "\n",
       "        counter_coefficient_std  consommation_level_1_mean  \\\n",
       "0                     -0.010978                  -0.147801   \n",
       "1                     -0.010978                   0.260214   \n",
       "2                     -0.010978                   0.739692   \n",
       "3                     -0.010978                  -0.846322   \n",
       "4                     -0.010978                   0.471382   \n",
       "...                         ...                        ...   \n",
       "247501                -0.010978                   0.229624   \n",
       "247502                -0.010978                  -0.156791   \n",
       "247503                -0.010978                   0.151120   \n",
       "247504                -0.010978                  -0.313680   \n",
       "247505                -0.010978                  -0.244782   \n",
       "\n",
       "        consommation_level_1_var  ...  region_308  region_309  region_310  \\\n",
       "0                      -0.016457  ...           0           0           0   \n",
       "1                      -0.020024  ...           0           0           0   \n",
       "2                      -0.005987  ...           0           0           0   \n",
       "3                      -0.022469  ...           0           0           0   \n",
       "4                      -0.019314  ...           0           0           0   \n",
       "...                          ...  ...         ...         ...         ...   \n",
       "247501                 -0.006464  ...           0           0           0   \n",
       "247502                 -0.015914  ...           0           0           0   \n",
       "247503                 -0.011852  ...           0           0           0   \n",
       "247504                 -0.018668  ...           0           0           0   \n",
       "247505                 -0.016517  ...           0           0           0   \n",
       "\n",
       "        region_311  region_312  region_313  region_371  region_372  \\\n",
       "0                0           0           0           0           0   \n",
       "1                0           0           0           0           0   \n",
       "2                0           0           0           0           0   \n",
       "3                0           0           0           0           0   \n",
       "4                0           0           0           0           0   \n",
       "...            ...         ...         ...         ...         ...   \n",
       "247501           0           0           0           0           0   \n",
       "247502           1           0           0           0           0   \n",
       "247503           1           0           0           0           0   \n",
       "247504           0           0           0           0           0   \n",
       "247505           0           0           0           0           0   \n",
       "\n",
       "        region_379  region_399  \n",
       "0                0           0  \n",
       "1                0           0  \n",
       "2                0           0  \n",
       "3                0           0  \n",
       "4                0           0  \n",
       "...            ...         ...  \n",
       "247501           0           0  \n",
       "247502           0           0  \n",
       "247503           0           0  \n",
       "247504           0           0  \n",
       "247505           0           0  \n",
       "\n",
       "[247506 rows x 66 columns]"
      ]
     },
     "execution_count": 158,
     "metadata": {},
     "output_type": "execute_result"
    }
   ],
   "source": [
    "X"
   ]
  },
  {
   "attachments": {},
   "cell_type": "markdown",
   "metadata": {},
   "source": [
    "# PCA "
   ]
  },
  {
   "cell_type": "code",
   "execution_count": 211,
   "metadata": {},
   "outputs": [],
   "source": [
    "from sklearn.decomposition import PCA\n",
    "\n",
    "pca = PCA(n_components=0.99)\n",
    "\n",
    "X_pca = pca.fit_transform(X)"
   ]
  },
  {
   "attachments": {},
   "cell_type": "markdown",
   "metadata": {},
   "source": [
    "# XGBoost"
   ]
  },
  {
   "cell_type": "code",
   "execution_count": 212,
   "metadata": {},
   "outputs": [
    {
     "name": "stdout",
     "output_type": "stream",
     "text": [
      "Fitting 4 folds for each of 1 candidates, totalling 4 fits\n",
      "[CV] END .learning_rate=0.15, max_depth=20, n_estimators=400; total time= 4.9min\n",
      "[CV] END .learning_rate=0.15, max_depth=20, n_estimators=400; total time= 4.8min\n",
      "[CV] END .learning_rate=0.15, max_depth=20, n_estimators=400; total time= 5.0min\n",
      "[CV] END .learning_rate=0.15, max_depth=20, n_estimators=400; total time= 4.8min\n",
      "Best parameters:  {'learning_rate': 0.15, 'max_depth': 20, 'n_estimators': 400}\n"
     ]
    }
   ],
   "source": [
    "from sklearn.model_selection import GridSearchCV, StratifiedKFold\n",
    "from xgboost import XGBClassifier\n",
    "from sklearn.metrics import accuracy_score, f1_score, roc_auc_score\n",
    "\n",
    "clf = XGBClassifier(objective='binary:logistic', eval_metric='auc', seed=42)\n",
    "\n",
    "params = {\n",
    "    'learning_rate': [0.15],\n",
    "    'max_depth': [20],\n",
    "    'n_estimators': [400]\n",
    "}\n",
    "\n",
    "cv = StratifiedKFold(n_splits=4, shuffle=True, random_state=42)\n",
    "\n",
    "grid_search = GridSearchCV(estimator=clf, param_grid=params, scoring='roc_auc', cv=cv, verbose=2)\n",
    "\n",
    "grid_search.fit(X_pca, y)\n",
    "\n",
    "print(\"Best parameters: \", grid_search.best_params_)"
   ]
  },
  {
   "cell_type": "code",
   "execution_count": 213,
   "metadata": {},
   "outputs": [
    {
     "name": "stdout",
     "output_type": "stream",
     "text": [
      "Best parameters:  {'learning_rate': 0.15, 'max_depth': 20, 'n_estimators': 400}\n"
     ]
    }
   ],
   "source": [
    "print(\"Best parameters: \", grid_search.best_params_)"
   ]
  },
  {
   "cell_type": "code",
   "execution_count": 215,
   "metadata": {},
   "outputs": [
    {
     "name": "stdout",
     "output_type": "stream",
     "text": [
      "roc_auc:  1.0\n",
      "accuracy:  1.0\n",
      "f1_score:  1.0\n"
     ]
    }
   ],
   "source": [
    "y_pred = grid_search.predict(X_pca)\n",
    "y_probas = grid_search.predict_proba(X_pca)[:, 1]\n",
    "\n",
    "roc_auc = roc_auc_score(y, y_probas)\n",
    "accuracy = accuracy_score(y, y_pred)\n",
    "f1 = f1_score(y, y_pred)\n",
    "\n",
    "print(\"roc_auc: \", roc_auc)\n",
    "print(\"accuracy: \", accuracy)\n",
    "print(\"f1_score: \", f1)"
   ]
  },
  {
   "cell_type": "code",
   "execution_count": 216,
   "metadata": {},
   "outputs": [],
   "source": [
    "xgb_model = grid_search.best_estimator_"
   ]
  },
  {
   "attachments": {},
   "cell_type": "markdown",
   "metadata": {},
   "source": [
    "# DL"
   ]
  },
  {
   "cell_type": "code",
   "execution_count": 182,
   "metadata": {},
   "outputs": [],
   "source": [
    "from tensorflow.keras.models import Sequential\n",
    "from tensorflow.keras.layers import Dense, BatchNormalization, Dropout\n",
    "from tensorflow.keras.callbacks import EarlyStopping\n",
    "from tensorflow.keras.metrics import AUC\n",
    "from keras.optimizers import Adam\n",
    "from tensorflow.keras.callbacks import ModelCheckpoint"
   ]
  },
  {
   "cell_type": "code",
   "execution_count": 225,
   "metadata": {},
   "outputs": [],
   "source": [
    "model = Sequential()\n",
    "\n",
    "model.add(BatchNormalization())\n",
    "model.add(Dense(92, input_dim=X_pca.shape[1], activation='relu'))\n",
    "model.add(Dense(64, activation='relu'))\n",
    "model.add(BatchNormalization())\n",
    "model.add(Dropout(0.1))\n",
    "model.add(Dense(32, activation='relu'))\n",
    "model.add(BatchNormalization())\n",
    "model.add(Dropout(0.2))\n",
    "model.add(Dense(1, activation='sigmoid'))"
   ]
  },
  {
   "cell_type": "code",
   "execution_count": 135,
   "metadata": {},
   "outputs": [],
   "source": [
    "checkpoint_callback = keras.callbacks.ModelCheckpoint(\n",
    "    filepath='./model_checkpoint/model',\n",
    "    save_weights_only=True,\n",
    "    save_best_only=False,\n",
    "    save_freq='epoch')\n",
    "\n",
    "checkpoint = ModelCheckpoint('model_weights.h5', save_weights_only=True, save_freq='epoch')"
   ]
  },
  {
   "cell_type": "code",
   "execution_count": 226,
   "metadata": {},
   "outputs": [
    {
     "name": "stderr",
     "output_type": "stream",
     "text": [
      "c:\\ProgramData\\Anaconda3\\envs\\python_dev\\lib\\site-packages\\keras\\optimizers\\optimizer_v2\\adam.py:114: UserWarning: The `lr` argument is deprecated, use `learning_rate` instead.\n",
      "  super().__init__(name, **kwargs)\n"
     ]
    }
   ],
   "source": [
    "model.compile(loss='binary_crossentropy', optimizer=Adam(lr=0.001), metrics=[AUC(name='aucroc')])\n",
    "\n",
    "early_stopping = EarlyStopping(monitor='aucroc', mode='max', patience=4, verbose=1)"
   ]
  },
  {
   "cell_type": "code",
   "execution_count": null,
   "metadata": {},
   "outputs": [],
   "source": [
    "model.fit(X_pca, y, epochs=20, batch_size=64, callbacks=[early_stopping, checkpoint_callback])"
   ]
  },
  {
   "cell_type": "code",
   "execution_count": 229,
   "metadata": {},
   "outputs": [
    {
     "name": "stdout",
     "output_type": "stream",
     "text": [
      "7735/7735 [==============================] - 13s 2ms/step - loss: 0.4144 - aucroc: 0.9004\n",
      "Test AUC-ROC: 0.90036940574646\n"
     ]
    }
   ],
   "source": [
    "test_loss, test_aucroc = model.evaluate(X_pca, y)\n",
    "print('Test AUC-ROC:', test_aucroc)"
   ]
  },
  {
   "attachments": {},
   "cell_type": "markdown",
   "metadata": {},
   "source": [
    "# Test data"
   ]
  },
  {
   "cell_type": "code",
   "execution_count": null,
   "metadata": {},
   "outputs": [],
   "source": [
    "client_test, invoice_test = generate_data(df_client_test, df_invoice_test)"
   ]
  },
  {
   "cell_type": "code",
   "execution_count": 166,
   "metadata": {},
   "outputs": [
    {
     "name": "stderr",
     "output_type": "stream",
     "text": [
      "C:\\Users\\PCPRODZ\\AppData\\Local\\Temp\\ipykernel_17708\\2877944012.py:1: FutureWarning: The default value of numeric_only in DataFrame.mean is deprecated. In a future version, it will default to False. In addition, specifying 'numeric_only=None' is deprecated. Select only valid columns or specify the value of numeric_only to silence this warning.\n",
      "  client_test.fillna(client_test.mean(), inplace=True)\n"
     ]
    }
   ],
   "source": [
    "client_test.fillna(client_test.mean(), inplace=True)"
   ]
  },
  {
   "cell_type": "code",
   "execution_count": 167,
   "metadata": {},
   "outputs": [
    {
     "data": {
      "text/html": [
       "<div>\n",
       "<style scoped>\n",
       "    .dataframe tbody tr th:only-of-type {\n",
       "        vertical-align: middle;\n",
       "    }\n",
       "\n",
       "    .dataframe tbody tr th {\n",
       "        vertical-align: top;\n",
       "    }\n",
       "\n",
       "    .dataframe thead th {\n",
       "        text-align: right;\n",
       "    }\n",
       "</style>\n",
       "<table border=\"1\" class=\"dataframe\">\n",
       "  <thead>\n",
       "    <tr style=\"text-align: right;\">\n",
       "      <th></th>\n",
       "      <th>disrict</th>\n",
       "      <th>client_id</th>\n",
       "      <th>client_catg</th>\n",
       "      <th>region</th>\n",
       "      <th>creation_date</th>\n",
       "      <th>tarif_type</th>\n",
       "      <th>counter_number</th>\n",
       "      <th>counter_code</th>\n",
       "      <th>reading_remarque</th>\n",
       "      <th>counter_statue</th>\n",
       "      <th>...</th>\n",
       "      <th>old_index_std</th>\n",
       "      <th>new_index_mean</th>\n",
       "      <th>new_index_var</th>\n",
       "      <th>new_index_std</th>\n",
       "      <th>diff_index_mean</th>\n",
       "      <th>diff_index_var</th>\n",
       "      <th>diff_index_std</th>\n",
       "      <th>diff_mean_index</th>\n",
       "      <th>ELEC</th>\n",
       "      <th>GAZ</th>\n",
       "    </tr>\n",
       "  </thead>\n",
       "  <tbody>\n",
       "    <tr>\n",
       "      <th>0</th>\n",
       "      <td>62</td>\n",
       "      <td>test_Client_0</td>\n",
       "      <td>11</td>\n",
       "      <td>307</td>\n",
       "      <td>28/05/2002</td>\n",
       "      <td>1</td>\n",
       "      <td>1</td>\n",
       "      <td>1</td>\n",
       "      <td>3</td>\n",
       "      <td>1</td>\n",
       "      <td>...</td>\n",
       "      <td>5401.043096</td>\n",
       "      <td>11881.216216</td>\n",
       "      <td>2.975780e+07</td>\n",
       "      <td>5455.070893</td>\n",
       "      <td>491.378378</td>\n",
       "      <td>5.554735e+04</td>\n",
       "      <td>235.684859</td>\n",
       "      <td>491.378378</td>\n",
       "      <td>1</td>\n",
       "      <td>0</td>\n",
       "    </tr>\n",
       "    <tr>\n",
       "      <th>1</th>\n",
       "      <td>69</td>\n",
       "      <td>test_Client_1</td>\n",
       "      <td>11</td>\n",
       "      <td>103</td>\n",
       "      <td>06/08/2009</td>\n",
       "      <td>1</td>\n",
       "      <td>1</td>\n",
       "      <td>1</td>\n",
       "      <td>3</td>\n",
       "      <td>2</td>\n",
       "      <td>...</td>\n",
       "      <td>17638.422718</td>\n",
       "      <td>32083.954545</td>\n",
       "      <td>3.116216e+08</td>\n",
       "      <td>17652.806615</td>\n",
       "      <td>2703.181818</td>\n",
       "      <td>1.024544e+07</td>\n",
       "      <td>3200.849986</td>\n",
       "      <td>2703.181818</td>\n",
       "      <td>1</td>\n",
       "      <td>0</td>\n",
       "    </tr>\n",
       "    <tr>\n",
       "      <th>2</th>\n",
       "      <td>62</td>\n",
       "      <td>test_Client_10</td>\n",
       "      <td>11</td>\n",
       "      <td>310</td>\n",
       "      <td>07/04/2004</td>\n",
       "      <td>2</td>\n",
       "      <td>2</td>\n",
       "      <td>2</td>\n",
       "      <td>3</td>\n",
       "      <td>1</td>\n",
       "      <td>...</td>\n",
       "      <td>10987.377541</td>\n",
       "      <td>12381.364865</td>\n",
       "      <td>1.276873e+08</td>\n",
       "      <td>11299.881222</td>\n",
       "      <td>607.310811</td>\n",
       "      <td>1.787428e+05</td>\n",
       "      <td>422.779872</td>\n",
       "      <td>607.310811</td>\n",
       "      <td>1</td>\n",
       "      <td>1</td>\n",
       "    </tr>\n",
       "    <tr>\n",
       "      <th>3</th>\n",
       "      <td>60</td>\n",
       "      <td>test_Client_100</td>\n",
       "      <td>11</td>\n",
       "      <td>101</td>\n",
       "      <td>08/10/1992</td>\n",
       "      <td>2</td>\n",
       "      <td>2</td>\n",
       "      <td>2</td>\n",
       "      <td>3</td>\n",
       "      <td>1</td>\n",
       "      <td>...</td>\n",
       "      <td>13242.361986</td>\n",
       "      <td>13868.075000</td>\n",
       "      <td>1.807456e+08</td>\n",
       "      <td>13444.166323</td>\n",
       "      <td>244.350000</td>\n",
       "      <td>6.113413e+04</td>\n",
       "      <td>247.253171</td>\n",
       "      <td>244.350000</td>\n",
       "      <td>1</td>\n",
       "      <td>1</td>\n",
       "    </tr>\n",
       "    <tr>\n",
       "      <th>4</th>\n",
       "      <td>62</td>\n",
       "      <td>test_Client_1000</td>\n",
       "      <td>11</td>\n",
       "      <td>301</td>\n",
       "      <td>21/07/1977</td>\n",
       "      <td>2</td>\n",
       "      <td>3</td>\n",
       "      <td>2</td>\n",
       "      <td>3</td>\n",
       "      <td>2</td>\n",
       "      <td>...</td>\n",
       "      <td>14371.199312</td>\n",
       "      <td>14676.584906</td>\n",
       "      <td>2.087575e+08</td>\n",
       "      <td>14448.442049</td>\n",
       "      <td>749.113208</td>\n",
       "      <td>7.470055e+05</td>\n",
       "      <td>864.294814</td>\n",
       "      <td>749.113208</td>\n",
       "      <td>1</td>\n",
       "      <td>1</td>\n",
       "    </tr>\n",
       "    <tr>\n",
       "      <th>...</th>\n",
       "      <td>...</td>\n",
       "      <td>...</td>\n",
       "      <td>...</td>\n",
       "      <td>...</td>\n",
       "      <td>...</td>\n",
       "      <td>...</td>\n",
       "      <td>...</td>\n",
       "      <td>...</td>\n",
       "      <td>...</td>\n",
       "      <td>...</td>\n",
       "      <td>...</td>\n",
       "      <td>...</td>\n",
       "      <td>...</td>\n",
       "      <td>...</td>\n",
       "      <td>...</td>\n",
       "      <td>...</td>\n",
       "      <td>...</td>\n",
       "      <td>...</td>\n",
       "      <td>...</td>\n",
       "      <td>...</td>\n",
       "      <td>...</td>\n",
       "    </tr>\n",
       "    <tr>\n",
       "      <th>58064</th>\n",
       "      <td>63</td>\n",
       "      <td>test_Client_9995</td>\n",
       "      <td>11</td>\n",
       "      <td>399</td>\n",
       "      <td>17/03/2010</td>\n",
       "      <td>2</td>\n",
       "      <td>2</td>\n",
       "      <td>2</td>\n",
       "      <td>1</td>\n",
       "      <td>1</td>\n",
       "      <td>...</td>\n",
       "      <td>11969.869545</td>\n",
       "      <td>10822.500000</td>\n",
       "      <td>1.563153e+08</td>\n",
       "      <td>12502.612354</td>\n",
       "      <td>461.250000</td>\n",
       "      <td>2.838289e+05</td>\n",
       "      <td>532.755964</td>\n",
       "      <td>461.250000</td>\n",
       "      <td>1</td>\n",
       "      <td>1</td>\n",
       "    </tr>\n",
       "    <tr>\n",
       "      <th>58065</th>\n",
       "      <td>63</td>\n",
       "      <td>test_Client_9996</td>\n",
       "      <td>11</td>\n",
       "      <td>311</td>\n",
       "      <td>28/05/2011</td>\n",
       "      <td>2</td>\n",
       "      <td>3</td>\n",
       "      <td>2</td>\n",
       "      <td>3</td>\n",
       "      <td>3</td>\n",
       "      <td>...</td>\n",
       "      <td>1616.041631</td>\n",
       "      <td>2099.173913</td>\n",
       "      <td>2.784451e+06</td>\n",
       "      <td>1668.667337</td>\n",
       "      <td>181.565217</td>\n",
       "      <td>1.156847e+04</td>\n",
       "      <td>107.556838</td>\n",
       "      <td>181.565217</td>\n",
       "      <td>1</td>\n",
       "      <td>1</td>\n",
       "    </tr>\n",
       "    <tr>\n",
       "      <th>58066</th>\n",
       "      <td>60</td>\n",
       "      <td>test_Client_9997</td>\n",
       "      <td>11</td>\n",
       "      <td>101</td>\n",
       "      <td>04/03/1978</td>\n",
       "      <td>2</td>\n",
       "      <td>3</td>\n",
       "      <td>2</td>\n",
       "      <td>3</td>\n",
       "      <td>1</td>\n",
       "      <td>...</td>\n",
       "      <td>9270.282678</td>\n",
       "      <td>12132.220339</td>\n",
       "      <td>8.590230e+07</td>\n",
       "      <td>9268.349198</td>\n",
       "      <td>172.491525</td>\n",
       "      <td>1.368598e+04</td>\n",
       "      <td>116.987086</td>\n",
       "      <td>172.491525</td>\n",
       "      <td>1</td>\n",
       "      <td>1</td>\n",
       "    </tr>\n",
       "    <tr>\n",
       "      <th>58067</th>\n",
       "      <td>60</td>\n",
       "      <td>test_Client_9998</td>\n",
       "      <td>11</td>\n",
       "      <td>101</td>\n",
       "      <td>23/02/2018</td>\n",
       "      <td>1</td>\n",
       "      <td>1</td>\n",
       "      <td>1</td>\n",
       "      <td>1</td>\n",
       "      <td>1</td>\n",
       "      <td>...</td>\n",
       "      <td>8056.220038</td>\n",
       "      <td>1927.000000</td>\n",
       "      <td>2.908807e+08</td>\n",
       "      <td>8191.814912</td>\n",
       "      <td>1927.000000</td>\n",
       "      <td>2.941785e+07</td>\n",
       "      <td>809.859108</td>\n",
       "      <td>1927.000000</td>\n",
       "      <td>1</td>\n",
       "      <td>0</td>\n",
       "    </tr>\n",
       "    <tr>\n",
       "      <th>58068</th>\n",
       "      <td>69</td>\n",
       "      <td>test_Client_9999</td>\n",
       "      <td>11</td>\n",
       "      <td>104</td>\n",
       "      <td>14/03/1990</td>\n",
       "      <td>1</td>\n",
       "      <td>1</td>\n",
       "      <td>1</td>\n",
       "      <td>3</td>\n",
       "      <td>1</td>\n",
       "      <td>...</td>\n",
       "      <td>5809.958251</td>\n",
       "      <td>23913.060606</td>\n",
       "      <td>3.503890e+07</td>\n",
       "      <td>5919.366530</td>\n",
       "      <td>564.545455</td>\n",
       "      <td>1.939958e+05</td>\n",
       "      <td>440.449564</td>\n",
       "      <td>564.545455</td>\n",
       "      <td>1</td>\n",
       "      <td>0</td>\n",
       "    </tr>\n",
       "  </tbody>\n",
       "</table>\n",
       "<p>58069 rows × 40 columns</p>\n",
       "</div>"
      ],
      "text/plain": [
       "       disrict         client_id  client_catg  region creation_date  \\\n",
       "0           62     test_Client_0           11     307    28/05/2002   \n",
       "1           69     test_Client_1           11     103    06/08/2009   \n",
       "2           62    test_Client_10           11     310    07/04/2004   \n",
       "3           60   test_Client_100           11     101    08/10/1992   \n",
       "4           62  test_Client_1000           11     301    21/07/1977   \n",
       "...        ...               ...          ...     ...           ...   \n",
       "58064       63  test_Client_9995           11     399    17/03/2010   \n",
       "58065       63  test_Client_9996           11     311    28/05/2011   \n",
       "58066       60  test_Client_9997           11     101    04/03/1978   \n",
       "58067       60  test_Client_9998           11     101    23/02/2018   \n",
       "58068       69  test_Client_9999           11     104    14/03/1990   \n",
       "\n",
       "       tarif_type  counter_number  counter_code  reading_remarque  \\\n",
       "0               1               1             1                 3   \n",
       "1               1               1             1                 3   \n",
       "2               2               2             2                 3   \n",
       "3               2               2             2                 3   \n",
       "4               2               3             2                 3   \n",
       "...           ...             ...           ...               ...   \n",
       "58064           2               2             2                 1   \n",
       "58065           2               3             2                 3   \n",
       "58066           2               3             2                 3   \n",
       "58067           1               1             1                 1   \n",
       "58068           1               1             1                 3   \n",
       "\n",
       "       counter_statue  ...  old_index_std  new_index_mean  new_index_var  \\\n",
       "0                   1  ...    5401.043096    11881.216216   2.975780e+07   \n",
       "1                   2  ...   17638.422718    32083.954545   3.116216e+08   \n",
       "2                   1  ...   10987.377541    12381.364865   1.276873e+08   \n",
       "3                   1  ...   13242.361986    13868.075000   1.807456e+08   \n",
       "4                   2  ...   14371.199312    14676.584906   2.087575e+08   \n",
       "...               ...  ...            ...             ...            ...   \n",
       "58064               1  ...   11969.869545    10822.500000   1.563153e+08   \n",
       "58065               3  ...    1616.041631     2099.173913   2.784451e+06   \n",
       "58066               1  ...    9270.282678    12132.220339   8.590230e+07   \n",
       "58067               1  ...    8056.220038     1927.000000   2.908807e+08   \n",
       "58068               1  ...    5809.958251    23913.060606   3.503890e+07   \n",
       "\n",
       "       new_index_std  diff_index_mean  diff_index_var  diff_index_std  \\\n",
       "0        5455.070893       491.378378    5.554735e+04      235.684859   \n",
       "1       17652.806615      2703.181818    1.024544e+07     3200.849986   \n",
       "2       11299.881222       607.310811    1.787428e+05      422.779872   \n",
       "3       13444.166323       244.350000    6.113413e+04      247.253171   \n",
       "4       14448.442049       749.113208    7.470055e+05      864.294814   \n",
       "...              ...              ...             ...             ...   \n",
       "58064   12502.612354       461.250000    2.838289e+05      532.755964   \n",
       "58065    1668.667337       181.565217    1.156847e+04      107.556838   \n",
       "58066    9268.349198       172.491525    1.368598e+04      116.987086   \n",
       "58067    8191.814912      1927.000000    2.941785e+07      809.859108   \n",
       "58068    5919.366530       564.545455    1.939958e+05      440.449564   \n",
       "\n",
       "       diff_mean_index  ELEC  GAZ  \n",
       "0           491.378378     1    0  \n",
       "1          2703.181818     1    0  \n",
       "2           607.310811     1    1  \n",
       "3           244.350000     1    1  \n",
       "4           749.113208     1    1  \n",
       "...                ...   ...  ...  \n",
       "58064       461.250000     1    1  \n",
       "58065       181.565217     1    1  \n",
       "58066       172.491525     1    1  \n",
       "58067      1927.000000     1    0  \n",
       "58068       564.545455     1    0  \n",
       "\n",
       "[58069 rows x 40 columns]"
      ]
     },
     "execution_count": 167,
     "metadata": {},
     "output_type": "execute_result"
    }
   ],
   "source": [
    "client_test"
   ]
  },
  {
   "cell_type": "code",
   "execution_count": 168,
   "metadata": {},
   "outputs": [],
   "source": [
    "client_test = clean_data(client_test, True)"
   ]
  },
  {
   "cell_type": "code",
   "execution_count": 169,
   "metadata": {},
   "outputs": [],
   "source": [
    "client_test.drop([\"creation_date\"], axis=1, inplace=True)"
   ]
  },
  {
   "cell_type": "code",
   "execution_count": 170,
   "metadata": {},
   "outputs": [],
   "source": [
    "ids_test = client_test['client_id'].values\n",
    "X_test = client_test.drop(['client_id'], axis=1)"
   ]
  },
  {
   "attachments": {},
   "cell_type": "markdown",
   "metadata": {},
   "source": [
    "# Predict"
   ]
  },
  {
   "cell_type": "code",
   "execution_count": 218,
   "metadata": {},
   "outputs": [],
   "source": [
    "X_test_pca = pca.transform(X_test)"
   ]
  },
  {
   "cell_type": "code",
   "execution_count": 230,
   "metadata": {},
   "outputs": [
    {
     "name": "stdout",
     "output_type": "stream",
     "text": [
      "1815/1815 [==============================] - 3s 2ms/step\n"
     ]
    }
   ],
   "source": [
    "# DL\n",
    "predictions_dl = model.predict(X_test_pca)"
   ]
  },
  {
   "cell_type": "code",
   "execution_count": 231,
   "metadata": {},
   "outputs": [
    {
     "data": {
      "text/plain": [
       "array([[0.21277757],\n",
       "       [0.6482666 ],\n",
       "       [0.09552129],\n",
       "       ...,\n",
       "       [0.9439009 ],\n",
       "       [0.39999476],\n",
       "       [0.64516926]], dtype=float32)"
      ]
     },
     "execution_count": 231,
     "metadata": {},
     "output_type": "execute_result"
    }
   ],
   "source": [
    "predictions_dl"
   ]
  },
  {
   "cell_type": "code",
   "execution_count": 232,
   "metadata": {},
   "outputs": [],
   "source": [
    "columns = {\n",
    "    \"client_id\": ids_test,\n",
    "    \"target\" : [proba[0] for proba in predictions_dl]\n",
    "}"
   ]
  },
  {
   "cell_type": "code",
   "execution_count": 220,
   "metadata": {},
   "outputs": [],
   "source": [
    "# ML\n",
    "predcitions_ml = grid_search.predict_proba(X_test_pca)[:, 1]"
   ]
  },
  {
   "cell_type": "code",
   "execution_count": 208,
   "metadata": {},
   "outputs": [
    {
     "data": {
      "text/plain": [
       "array([1.4720542e-03, 1.2000856e-01, 3.8787842e-04, ..., 8.6289847e-01,\n",
       "       3.9754476e-04, 1.5268045e-03], dtype=float32)"
      ]
     },
     "execution_count": 208,
     "metadata": {},
     "output_type": "execute_result"
    }
   ],
   "source": [
    "predcitions_ml"
   ]
  },
  {
   "cell_type": "code",
   "execution_count": 200,
   "metadata": {},
   "outputs": [],
   "source": [
    "columns = {\n",
    "    \"client_id\": ids_test,\n",
    "    \"target\" :  [ (0.8 * probaML + 0.2 * probaDL[0] ) for probaML, probaDL in zip(predcitions_ml, predictions_dl) ]  \n",
    "}"
   ]
  },
  {
   "cell_type": "code",
   "execution_count": 222,
   "metadata": {},
   "outputs": [],
   "source": [
    "submit = pd.DataFrame(columns)\n",
    "\n",
    "submit.to_csv(\"submission.csv\", index=False)"
   ]
  }
 ],
 "metadata": {
  "kernelspec": {
   "display_name": "python_dev",
   "language": "python",
   "name": "python3"
  },
  "language_info": {
   "codemirror_mode": {
    "name": "ipython",
    "version": 3
   },
   "file_extension": ".py",
   "mimetype": "text/x-python",
   "name": "python",
   "nbconvert_exporter": "python",
   "pygments_lexer": "ipython3",
   "version": "3.10.10"
  },
  "orig_nbformat": 4
 },
 "nbformat": 4,
 "nbformat_minor": 2
}
